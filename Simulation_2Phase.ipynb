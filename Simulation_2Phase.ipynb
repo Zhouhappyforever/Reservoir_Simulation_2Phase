{
 "cells": [
  {
   "cell_type": "code",
   "execution_count": 1,
   "id": "2a2bd538-8050-40ec-802d-51a685d991fe",
   "metadata": {},
   "outputs": [],
   "source": [
    "using Pkg\n",
    "Pkg.add(\"Gridap\")\n",
    "Pkg.add(\"Plots\")\n",
    "using Gridap\n",
    "using Gridap.Geometry\n",
    "using Plots"
   ]
  },
  {
   "cell_type": "code",
   "execution_count": 2,
   "id": "4fdbb12d-7f3d-4226-bceb-0dc1789259eb",
   "metadata": {},
   "outputs": [],
   "source": [
    "rho_p = 2500.0\n",
    "rho_f = 1000.0\n",
    "g = 9.81\n",
    "dp = 1.0\n",
    "Cvm = 0.5\n",
    "L = 10.0\n",
    "n = 100\n",
    "dt = 0.01\n",
    "t_end = 1.0\n",
    "theta_s(x) = 0.0\n",
    "bp(phi) = 1.0e-2 * phi^2"
   ]
  },
  {
   "cell_type": "code",
   "execution_count": 3,
   "id": "d7d139c6-5086-456e-a7dd-013d25133036",
   "metadata": {},
   "outputs": [],
   "source": [
    "domain = (0.0, L)\n",
    "partition = (n,)\n",
    "model = CartesianDiscreteModel(domain, partition; isperiodic=(true,))"
   ]
  },
  {
   "cell_type": "code",
   "execution_count": 4,
   "id": "13864120-7c19-446d-a5bc-51331b27dad9",
   "metadata": {},
   "outputs": [],
   "source": [
    "order = 1\n",
    "reffe_scalar = ReferenceFE(lagrangian, Float64, order)"
   ]
  },
  {
   "cell_type": "code",
   "execution_count": 5,
   "id": "30f74fb3-db07-483f-ac7a-ada5176ee17b",
   "metadata": {},
   "outputs": [],
   "source": [
    "V_phi = TestFESpace(model, reffe_scalar; conformity=:H1)\n",
    "V_vp = TestFESpace(model, reffe_scalar; conformity=:H1)\n",
    "V_vf = TestFESpace(model, reffe_scalar; conformity=:H1)\n",
    "Q_lambda = TestFESpace(model, reffe_scalar; conformity=:H1)\n",
    "Y = MultiFieldFESpace([V_phi, V_vp, V_vf, Q_lambda])"
   ]
  },
  {
   "cell_type": "code",
   "execution_count": 6,
   "id": "ca3ad153-8b5c-4386-9f2f-9f63e19ae3e4",
   "metadata": {},
   "outputs": [],
   "source": [
    "U_phi = TransientTrialFESpace(V_phi)\n",
    "U_vp = TransientTrialFESpace(V_vp)\n",
    "U_vf = TransientTrialFESpace(V_vf)\n",
    "U_lambda = TransientTrialFESpace(Q_lambda)\n",
    "X = TransientMultiFieldFESpace([U_phi, U_vp, U_vf, U_lambda])"
   ]
  },
  {
   "cell_type": "code",
   "execution_count": 7,
   "id": "80605e88-2239-49f4-bd4f-630b4e724568",
   "metadata": {},
   "outputs": [],
   "source": [
    "degree = 2 * order\n",
    "Omega = Triangulation(model)\n",
    "dOmega = Measure(Omega, degree)"
   ]
  },
  {
   "cell_type": "code",
   "execution_count": 8,
   "id": "7d890054-9e26-49fc-afc8-ad55d9fa54f4",
   "metadata": {},
   "outputs": [],
   "source": [
    "phi_f(phi) = 1.0 - phi\n",
    "sin_theta = theta_s"
   ]
  },
  {
   "cell_type": "code",
   "execution_count": 9,
   "id": "c65be613-5e7c-432a-ab9e-66c90da8f099",
   "metadata": {},
   "outputs": [],
   "source": [
    "function res(t, u, v)\n",
    "  dtu = ∂t(u)\n",
    "  phi, vp, vf, lam = u\n",
    "  dphi, dvp, dvf, dlam = dtu\n",
    "  test_phi, test_chi, test_wp, test_wf = v\n",
    "  phiF = phi_f(phi)\n",
    "  ∫( test_phi * dphi - ∇(test_phi) ⋅ (phi * vp) )dOmega +\n",
    "  ∫( test_chi * (-dphi) - ∇(test_chi) ⋅ (phiF * vf) )dOmega +\n",
    "  ∫( test_wp * rho_p * (dvp + vp * ∇(vp)) - test_wp * rho_p * g * sin_theta - test_wp * dp * (vf - vp) -\n",
    "     test_wp * Cvm * rho_f * phi * (dvf + vf * ∇(vf) - dvp - vp * ∇(vp)) +\n",
    "     ∇(test_wp) ⋅ phi * lam + ∇(test_wp) ⋅ bp(phi) )dOmega +\n",
    "  ∫( test_wf * rho_f * (dvf + vf * ∇(vf)) - test_wf * rho_f * g * sin_theta + test_wf * dp * (vf - vp) +\n",
    "     test_wf * Cvm * rho_f * phi * (dvf + vf * ∇(vf) - dvp - vp * ∇(vp)) +\n",
    "     ∇(test_wf) ⋅ phiF * lam )dOmega\n",
    "end"
   ]
  },
  {
   "cell_type": "code",
   "execution_count": 10,
   "id": "f613a14a-8884-46b9-b019-2e3affe886c3",
   "metadata": {},
   "outputs": [],
   "source": [
    "function jac(t, u, du, v)\n",
    "  dtu = ∂t(u)\n",
    "  phi, vp, vf, lam = u\n",
    "  dphi_u, dvp_u, dvf_u, dlam_u = dtu\n",
    "  dphi_y, dvp_y, dvf_y, dlam_y = du\n",
    "  test_phi, test_chi, test_wp, test_wf = v\n",
    "  phiF = phi_f(phi)\n",
    "  dphiF = -dphi_y\n",
    "  ∫( - ∇(test_phi) ⋅ (dphi_y * vp + phi * dvp_y) )dOmega +\n",
    "  ∫( - ∇(test_chi) ⋅ (dphiF * vf + phiF * dvf_y) )dOmega +\n",
    "  ∫( test_wp * rho_p * (vp * ∇(dvp_y) + dvp_y * ∇(vp)) - test_wp * dp * (dvf_y - dvp_y) -\n",
    "     test_wp * Cvm * rho_f * (dphi_y * (dvf_u + vf * ∇(vf) - dvp_u - vp * ∇(vp)) + phi * (vf * ∇(dvf_y) + dvf_y * ∇(vf) - vp * ∇(dvp_y) - dvp_y * ∇(vp))) +\n",
    "     ∇(test_wp) ⋅ dphi_y * lam )dOmega +\n",
    "  ∫( test_wf * rho_f * (vf * ∇(dvf_y) + dvf_y * ∇(vf)) + test_wf * dp * (dvf_y - dvp_y) +\n",
    "     test_wf * Cvm * rho_f * (dphi_y * (dvf_u + vf * ∇(vf) - dvp_u - vp * ∇(vp)) + phi * (vf * ∇(dvf_y) + dvf_y * ∇(vf) - vp * ∇(dvp_y) - dvp_y * ∇(vp))) +\n",
    "     ∇(test_wf) ⋅ dphiF * lam )dOmega +\n",
    "  ∫( ∇(test_wp) ⋅ phi * dlam_y + ∇(test_wf) ⋅ phiF * dlam_y )dOmega\n",
    "end\n",
    "\n",
    "function jac_t(t, u, dut, v)\n",
    "  phi, vp, vf, lam = u\n",
    "  ddphi, ddvp, ddvf, ddlam = dut\n",
    "  test_phi, test_chi, test_wp, test_wf = v\n",
    "  ∫( test_phi * ddphi )dOmega +\n",
    "  ∫( test_chi * (-ddphi) )dOmega +\n",
    "  ∫( test_wp * rho_p * ddvp - test_wp * Cvm * rho_f * phi * (ddvf - ddvp) )dOmega +\n",
    "  ∫( test_wf * rho_f * ddvf + test_wf * Cvm * rho_f * phi * (ddvf - ddvp) )dOmega\n",
    "end"
   ]
  },
  {
   "cell_type": "code",
   "execution_count": 11,
   "id": "716904a5-83a6-4158-bb03-b4dcb87d0a73",
   "metadata": {},
   "outputs": [],
   "source": [
    "op = TransientFEOperator(res, jac, jac_t, X, Y)\n",
    "ls = LUSolver()\n",
    "nls = NLSolver(ls; method=:newton, iterations=10, show_trace=true)\n",
    "theta = 0.5\n",
    "solver = ThetaMethod(nls, dt, theta)\n",
    "phi0(x) = 0.1\n",
    "vp0(x) = 1.0\n",
    "vf0(x) = 1.0\n",
    "lam0(x) = 0.0\n",
    "y0 = interpolate_everywhere([phi0, vp0, vf0, lam0], X(0.0))\n",
    "sol_t = solve(solver, op, y0, 0.0, t_end)"
   ]
  },
  {
   "cell_type": "code",
   "execution_count": 12,
   "id": "cd346649-100e-4660-9ec5-8da82b8e3b76",
   "metadata": {},
   "outputs": [],
   "source": [
    "n_points = 100\n",
    "s_vals = range(0.0, L, n_points)\n",
    "points = [Point(s) for s in s_vals]\n",
    "\n",
    "for (t, yh) in sol_t\n",
    "  if t \u2248 t_end\n",
    "    phi_h, vp_h, vf_h, lam_h = yh\n",
    "    phi_vals = [phi_h(pt)[1] for pt in points]\n",
    "    vp_vals = [vp_h(pt)[1] for pt in points]\n",
    "    vf_vals = [vf_h(pt)[1] for pt in points]\n",
    "    p1 = plot(s_vals, phi_vals, label=\"ϕ_p\", xlabel=\"s (m)\", ylabel=\"ϕ_p\", title=\"Particle Fraction at t=$t\")\n",
    "    p2 = plot(s_vals, vp_vals, label=\"v_p\", xlabel=\"s (m)\", ylabel=\"Velocity (m/s)\", title=\"Velocities at t=$t\")\n",
    "    plot!(p2, s_vals, vf_vals, label=\"v_f\")\n",
    "    display(plot(p1, p2, layout=(2,1)))\n",
    "  end\n",
    "end"
   ]
  }
 ],
 "metadata": {
  "kernelspec": {
   "display_name": "Julia 1.11.3",
   "language": "julia",
   "name": "julia-1.11"
  },
  "language_info": {
   "file_extension": ".jl",
   "mimetype": "application/julia",
   "name": "julia",
   "version": "1.11.3"
  }
 },
 "nbformat": 4,
 "nbformat_minor": 5
}
